{
 "cells": [
  {
   "cell_type": "markdown",
   "metadata": {},
   "source": [
    "# PostgreSQL Connection Example\n",
    "\n",
    "This notebook demonstrates how to connect to a PostgreSQL database from Jupyter and perform basic operations."
   ]
  },
  {
   "cell_type": "markdown",
   "metadata": {},
   "source": [
    "## 1. Install Required Libraries (if needed)\n",
    "If you haven't already, install the required packages:"
   ]
  },
  {
   "cell_type": "code",
   "execution_count": 1,
   "metadata": {},
   "outputs": [
    {
     "name": "stdout",
     "output_type": "stream",
     "text": [
      "Collecting sqlalchemy\n",
      "  Downloading sqlalchemy-2.0.40-cp39-cp39-manylinux_2_17_x86_64.manylinux2014_x86_64.whl.metadata (9.6 kB)\n",
      "Collecting psycopg2-binary\n",
      "  Downloading psycopg2_binary-2.9.10-cp39-cp39-manylinux_2_17_x86_64.manylinux2014_x86_64.whl.metadata (4.9 kB)\n",
      "Collecting pandas\n",
      "  Downloading pandas-2.2.3-cp39-cp39-manylinux_2_17_x86_64.manylinux2014_x86_64.whl.metadata (89 kB)\n",
      "Collecting greenlet>=1 (from sqlalchemy)\n",
      "  Downloading greenlet-3.2.1-cp39-cp39-manylinux_2_24_x86_64.manylinux_2_28_x86_64.whl.metadata (4.1 kB)\n",
      "Requirement already satisfied: typing-extensions>=4.6.0 in /home/calvin/projects/zoomcamp/de-zoomcamp-2025/.venv/lib/python3.9/site-packages (from sqlalchemy) (4.13.2)\n",
      "Collecting numpy>=1.22.4 (from pandas)\n",
      "  Downloading numpy-2.0.2-cp39-cp39-manylinux_2_17_x86_64.manylinux2014_x86_64.whl.metadata (60 kB)\n",
      "Requirement already satisfied: python-dateutil>=2.8.2 in /home/calvin/projects/zoomcamp/de-zoomcamp-2025/.venv/lib/python3.9/site-packages (from pandas) (2.9.0.post0)\n",
      "Collecting pytz>=2020.1 (from pandas)\n",
      "  Downloading pytz-2025.2-py2.py3-none-any.whl.metadata (22 kB)\n",
      "Collecting tzdata>=2022.7 (from pandas)\n",
      "  Downloading tzdata-2025.2-py2.py3-none-any.whl.metadata (1.4 kB)\n",
      "Requirement already satisfied: six>=1.5 in /home/calvin/projects/zoomcamp/de-zoomcamp-2025/.venv/lib/python3.9/site-packages (from python-dateutil>=2.8.2->pandas) (1.17.0)\n",
      "Downloading sqlalchemy-2.0.40-cp39-cp39-manylinux_2_17_x86_64.manylinux2014_x86_64.whl (3.1 MB)\n",
      "\u001b[2K   \u001b[90m━━━━━━━━━━━━━━━━━━━━━━━━━━━━━━━━━━━━━━━━\u001b[0m \u001b[32m3.1/3.1 MB\u001b[0m \u001b[31m150.7 MB/s\u001b[0m eta \u001b[36m0:00:00\u001b[0m\n",
      "\u001b[?25hDownloading psycopg2_binary-2.9.10-cp39-cp39-manylinux_2_17_x86_64.manylinux2014_x86_64.whl (3.0 MB)\n",
      "\u001b[2K   \u001b[90m━━━━━━━━━━━━━━━━━━━━━━━━━━━━━━━━━━━━━━━━\u001b[0m \u001b[32m3.0/3.0 MB\u001b[0m \u001b[31m144.2 MB/s\u001b[0m eta \u001b[36m0:00:00\u001b[0m\n",
      "\u001b[?25hDownloading pandas-2.2.3-cp39-cp39-manylinux_2_17_x86_64.manylinux2014_x86_64.whl (13.1 MB)\n",
      "\u001b[2K   \u001b[90m━━━━━━━━━━━━━━━━━━━━━━━━━━━━━━━━━━━━━━━━\u001b[0m \u001b[32m13.1/13.1 MB\u001b[0m \u001b[31m153.1 MB/s\u001b[0m eta \u001b[36m0:00:00\u001b[0m\n",
      "\u001b[?25hDownloading greenlet-3.2.1-cp39-cp39-manylinux_2_24_x86_64.manylinux_2_28_x86_64.whl (579 kB)\n",
      "\u001b[2K   \u001b[90m━━━━━━━━━━━━━━━━━━━━━━━━━━━━━━━━━━━━━━━━\u001b[0m \u001b[32m579.1/579.1 kB\u001b[0m \u001b[31m45.7 MB/s\u001b[0m eta \u001b[36m0:00:00\u001b[0m\n",
      "\u001b[?25hDownloading numpy-2.0.2-cp39-cp39-manylinux_2_17_x86_64.manylinux2014_x86_64.whl (19.5 MB)\n",
      "\u001b[2K   \u001b[90m━━━━━━━━━━━━━━━━━━━━━━━━━━━━━━━━━━━━━━━━\u001b[0m \u001b[32m19.5/19.5 MB\u001b[0m \u001b[31m173.6 MB/s\u001b[0m eta \u001b[36m0:00:00\u001b[0m\n",
      "\u001b[?25hDownloading pytz-2025.2-py2.py3-none-any.whl (509 kB)\n",
      "Downloading tzdata-2025.2-py2.py3-none-any.whl (347 kB)\n",
      "Installing collected packages: pytz, tzdata, psycopg2-binary, numpy, greenlet, sqlalchemy, pandas\n",
      "\u001b[2K   \u001b[90m━━━━━━━━━━━━━━━━━━━━━━━━━━━━━━━━━━━━━━━━\u001b[0m \u001b[32m7/7\u001b[0m [pandas]2m6/7\u001b[0m [pandas]emy]nary]\n",
      "\u001b[1A\u001b[2KSuccessfully installed greenlet-3.2.1 numpy-2.0.2 pandas-2.2.3 psycopg2-binary-2.9.10 pytz-2025.2 sqlalchemy-2.0.40 tzdata-2025.2\n"
     ]
    }
   ],
   "source": [
    "# Uncomment and run if you need to install these packages\n",
    "!pip install sqlalchemy psycopg2-binary pandas"
   ]
  },
  {
   "cell_type": "markdown",
   "metadata": {},
   "source": [
    "## 2. Import Libraries"
   ]
  },
  {
   "cell_type": "code",
   "execution_count": 2,
   "metadata": {},
   "outputs": [],
   "source": [
    "import pandas as pd\n",
    "from sqlalchemy import create_engine, text\n",
    "import os"
   ]
  },
  {
   "cell_type": "markdown",
   "metadata": {},
   "source": [
    "## 3. Configure Database Connection\n",
    "\n",
    "Use the connection details from your Docker Compose setup:"
   ]
  },
  {
   "cell_type": "code",
   "execution_count": 3,
   "metadata": {},
   "outputs": [],
   "source": [
    "# Database connection parameters\n",
    "DB_USER = 'postgres'\n",
    "DB_PASSWORD = 'postgres'\n",
    "DB_HOST = 'localhost'  # Use 'postgres' if running within the Docker network, 'localhost' if connecting from outside\n",
    "DB_PORT = '5432'\n",
    "DB_NAME = 'weather_data'\n",
    "\n",
    "# Create connection string\n",
    "connection_string = f\"postgresql://{DB_USER}:{DB_PASSWORD}@{DB_HOST}:{DB_PORT}/{DB_NAME}\"\n",
    "\n",
    "# Create SQLAlchemy engine\n",
    "engine = create_engine(connection_string)"
   ]
  },
  {
   "cell_type": "markdown",
   "metadata": {},
   "source": [
    "## 4. Test Connection"
   ]
  },
  {
   "cell_type": "code",
   "execution_count": 4,
   "metadata": {},
   "outputs": [
    {
     "name": "stdout",
     "output_type": "stream",
     "text": [
      "Connection successful!\n"
     ]
    }
   ],
   "source": [
    "# Test the connection\n",
    "try:\n",
    "    with engine.connect() as connection:\n",
    "        result = connection.execute(text(\"SELECT 1\"))\n",
    "        print(\"Connection successful!\")\n",
    "except Exception as e:\n",
    "    print(f\"Error connecting to the database: {e}\")"
   ]
  },
  {
   "cell_type": "markdown",
   "metadata": {},
   "source": [
    "## 5. Create a Sample Table"
   ]
  },
  {
   "cell_type": "code",
   "execution_count": 5,
   "metadata": {},
   "outputs": [
    {
     "name": "stdout",
     "output_type": "stream",
     "text": [
      "Table created successfully!\n"
     ]
    }
   ],
   "source": [
    "# Create a sample weather stations table\n",
    "create_table_query = \"\"\"\n",
    "CREATE TABLE IF NOT EXISTS weather_stations (\n",
    "    station_id VARCHAR(20) PRIMARY KEY,\n",
    "    station_name VARCHAR(100),\n",
    "    latitude FLOAT,\n",
    "    longitude FLOAT,\n",
    "    elevation FLOAT,\n",
    "    country VARCHAR(50),\n",
    "    state VARCHAR(50)\n",
    ");\n",
    "\"\"\"\n",
    "\n",
    "try:\n",
    "    with engine.connect() as connection:\n",
    "        connection.execute(text(create_table_query))\n",
    "        connection.commit()\n",
    "        print(\"Table created successfully!\")\n",
    "except Exception as e:\n",
    "    print(f\"Error creating table: {e}\")"
   ]
  },
  {
   "cell_type": "markdown",
   "metadata": {},
   "source": [
    "## 6. Insert Sample Data"
   ]
  },
  {
   "cell_type": "code",
   "execution_count": 6,
   "metadata": {},
   "outputs": [
    {
     "name": "stdout",
     "output_type": "stream",
     "text": [
      "Sample data inserted successfully!\n"
     ]
    }
   ],
   "source": [
    "# Sample data as a pandas DataFrame\n",
    "sample_stations = pd.DataFrame([\n",
    "    {'station_id': 'USW00094728', 'station_name': 'NEW YORK CENTRAL PARK', 'latitude': 40.7789, 'longitude': -73.9692, 'elevation': 42.7, 'country': 'US', 'state': 'NY'},\n",
    "    {'station_id': 'USW00023174', 'station_name': 'CHICAGO OHARE INTL AP', 'latitude': 41.9950, 'longitude': -87.9336, 'elevation': 201.8, 'country': 'US', 'state': 'IL'},\n",
    "    {'station_id': 'USW00023234', 'station_name': 'WASHINGTON REAGAN AP', 'latitude': 38.8572, 'longitude': -77.0372, 'elevation': 3.0, 'country': 'US', 'state': 'DC'},\n",
    "    {'station_id': 'USW00023188', 'station_name': 'SAN FRANCISCO INTL AP', 'latitude': 37.6197, 'longitude': -122.3647, 'elevation': 2.4, 'country': 'US', 'state': 'CA'}\n",
    "])\n",
    "\n",
    "# Write the DataFrame to the PostgreSQL table\n",
    "try:\n",
    "    sample_stations.to_sql('weather_stations', engine, if_exists='append', index=False)\n",
    "    print(\"Sample data inserted successfully!\")\n",
    "except Exception as e:\n",
    "    print(f\"Error inserting data: {e}\")"
   ]
  },
  {
   "cell_type": "markdown",
   "metadata": {},
   "source": [
    "## 7. Query the Data"
   ]
  },
  {
   "cell_type": "code",
   "execution_count": 7,
   "metadata": {},
   "outputs": [
    {
     "data": {
      "text/html": [
       "<div>\n",
       "<style scoped>\n",
       "    .dataframe tbody tr th:only-of-type {\n",
       "        vertical-align: middle;\n",
       "    }\n",
       "\n",
       "    .dataframe tbody tr th {\n",
       "        vertical-align: top;\n",
       "    }\n",
       "\n",
       "    .dataframe thead th {\n",
       "        text-align: right;\n",
       "    }\n",
       "</style>\n",
       "<table border=\"1\" class=\"dataframe\">\n",
       "  <thead>\n",
       "    <tr style=\"text-align: right;\">\n",
       "      <th></th>\n",
       "      <th>station_id</th>\n",
       "      <th>station_name</th>\n",
       "      <th>latitude</th>\n",
       "      <th>longitude</th>\n",
       "      <th>elevation</th>\n",
       "      <th>country</th>\n",
       "      <th>state</th>\n",
       "    </tr>\n",
       "  </thead>\n",
       "  <tbody>\n",
       "    <tr>\n",
       "      <th>0</th>\n",
       "      <td>USW00094728</td>\n",
       "      <td>NEW YORK CENTRAL PARK</td>\n",
       "      <td>40.7789</td>\n",
       "      <td>-73.9692</td>\n",
       "      <td>42.7</td>\n",
       "      <td>US</td>\n",
       "      <td>NY</td>\n",
       "    </tr>\n",
       "    <tr>\n",
       "      <th>1</th>\n",
       "      <td>USW00023174</td>\n",
       "      <td>CHICAGO OHARE INTL AP</td>\n",
       "      <td>41.9950</td>\n",
       "      <td>-87.9336</td>\n",
       "      <td>201.8</td>\n",
       "      <td>US</td>\n",
       "      <td>IL</td>\n",
       "    </tr>\n",
       "    <tr>\n",
       "      <th>2</th>\n",
       "      <td>USW00023234</td>\n",
       "      <td>WASHINGTON REAGAN AP</td>\n",
       "      <td>38.8572</td>\n",
       "      <td>-77.0372</td>\n",
       "      <td>3.0</td>\n",
       "      <td>US</td>\n",
       "      <td>DC</td>\n",
       "    </tr>\n",
       "    <tr>\n",
       "      <th>3</th>\n",
       "      <td>USW00023188</td>\n",
       "      <td>SAN FRANCISCO INTL AP</td>\n",
       "      <td>37.6197</td>\n",
       "      <td>-122.3647</td>\n",
       "      <td>2.4</td>\n",
       "      <td>US</td>\n",
       "      <td>CA</td>\n",
       "    </tr>\n",
       "  </tbody>\n",
       "</table>\n",
       "</div>"
      ],
      "text/plain": [
       "    station_id           station_name  latitude  longitude  elevation country  \\\n",
       "0  USW00094728  NEW YORK CENTRAL PARK   40.7789   -73.9692       42.7      US   \n",
       "1  USW00023174  CHICAGO OHARE INTL AP   41.9950   -87.9336      201.8      US   \n",
       "2  USW00023234   WASHINGTON REAGAN AP   38.8572   -77.0372        3.0      US   \n",
       "3  USW00023188  SAN FRANCISCO INTL AP   37.6197  -122.3647        2.4      US   \n",
       "\n",
       "  state  \n",
       "0    NY  \n",
       "1    IL  \n",
       "2    DC  \n",
       "3    CA  "
      ]
     },
     "metadata": {},
     "output_type": "display_data"
    }
   ],
   "source": [
    "# Query the data\n",
    "query = \"SELECT * FROM weather_stations;\"\n",
    "\n",
    "try:\n",
    "    stations_df = pd.read_sql(query, engine)\n",
    "    display(stations_df)\n",
    "except Exception as e:\n",
    "    print(f\"Error querying data: {e}\")"
   ]
  },
  {
   "cell_type": "markdown",
   "metadata": {},
   "source": [
    "## 8. Create a Sample Weather Readings Table"
   ]
  },
  {
   "cell_type": "code",
   "execution_count": 8,
   "metadata": {},
   "outputs": [
    {
     "name": "stdout",
     "output_type": "stream",
     "text": [
      "Weather readings table created successfully!\n"
     ]
    }
   ],
   "source": [
    "# Create a sample weather readings table\n",
    "create_readings_table_query = \"\"\"\n",
    "CREATE TABLE IF NOT EXISTS weather_readings (\n",
    "    id SERIAL PRIMARY KEY,\n",
    "    station_id VARCHAR(20) REFERENCES weather_stations(station_id),\n",
    "    date DATE,\n",
    "    element VARCHAR(10),\n",
    "    value FLOAT,\n",
    "    quality_flag VARCHAR(1)\n",
    ");\n",
    "\"\"\"\n",
    "\n",
    "try:\n",
    "    with engine.connect() as connection:\n",
    "        connection.execute(text(create_readings_table_query))\n",
    "        connection.commit()\n",
    "        print(\"Weather readings table created successfully!\")\n",
    "except Exception as e:\n",
    "    print(f\"Error creating weather readings table: {e}\")"
   ]
  },
  {
   "cell_type": "markdown",
   "metadata": {},
   "source": [
    "## 9. Insert Sample Weather Readings"
   ]
  },
  {
   "cell_type": "code",
   "execution_count": 9,
   "metadata": {},
   "outputs": [
    {
     "name": "stdout",
     "output_type": "stream",
     "text": [
      "Inserted 84 sample weather readings successfully!\n"
     ]
    }
   ],
   "source": [
    "# Sample weather readings data\n",
    "from datetime import date, timedelta\n",
    "import random\n",
    "\n",
    "# Generate some sample data for the past week\n",
    "readings = []\n",
    "elements = ['TMAX', 'TMIN', 'PRCP']\n",
    "today = date.today()\n",
    "\n",
    "for station_id in sample_stations['station_id']:\n",
    "    for i in range(7):  # Past 7 days\n",
    "        for element in elements:\n",
    "            current_date = today - timedelta(days=i)\n",
    "            \n",
    "            # Generate random values based on element type\n",
    "            if element == 'TMAX':\n",
    "                value = round(random.uniform(15, 35), 1)  # Temperature in Celsius\n",
    "            elif element == 'TMIN':\n",
    "                value = round(random.uniform(5, 20), 1)  # Temperature in Celsius\n",
    "            else:  # PRCP\n",
    "                value = round(random.uniform(0, 25), 1)  # Precipitation in mm\n",
    "                \n",
    "            readings.append({\n",
    "                'station_id': station_id,\n",
    "                'date': current_date,\n",
    "                'element': element,\n",
    "                'value': value,\n",
    "                'quality_flag': ''\n",
    "            })\n",
    "\n",
    "# Convert to DataFrame\n",
    "readings_df = pd.DataFrame(readings)\n",
    "\n",
    "# Insert into database\n",
    "try:\n",
    "    readings_df.to_sql('weather_readings', engine, if_exists='append', index=False)\n",
    "    print(f\"Inserted {len(readings_df)} sample weather readings successfully!\")\n",
    "except Exception as e:\n",
    "    print(f\"Error inserting weather readings: {e}\")"
   ]
  },
  {
   "cell_type": "markdown",
   "metadata": {},
   "source": [
    "## 10. Query Weather Readings with Joins"
   ]
  },
  {
   "cell_type": "code",
   "execution_count": 10,
   "metadata": {},
   "outputs": [
    {
     "data": {
      "text/html": [
       "<div>\n",
       "<style scoped>\n",
       "    .dataframe tbody tr th:only-of-type {\n",
       "        vertical-align: middle;\n",
       "    }\n",
       "\n",
       "    .dataframe tbody tr th {\n",
       "        vertical-align: top;\n",
       "    }\n",
       "\n",
       "    .dataframe thead th {\n",
       "        text-align: right;\n",
       "    }\n",
       "</style>\n",
       "<table border=\"1\" class=\"dataframe\">\n",
       "  <thead>\n",
       "    <tr style=\"text-align: right;\">\n",
       "      <th></th>\n",
       "      <th>date</th>\n",
       "      <th>station_name</th>\n",
       "      <th>state</th>\n",
       "      <th>element</th>\n",
       "      <th>value</th>\n",
       "    </tr>\n",
       "  </thead>\n",
       "  <tbody>\n",
       "    <tr>\n",
       "      <th>0</th>\n",
       "      <td>2025-04-27</td>\n",
       "      <td>CHICAGO OHARE INTL AP</td>\n",
       "      <td>IL</td>\n",
       "      <td>TMAX</td>\n",
       "      <td>21.6</td>\n",
       "    </tr>\n",
       "    <tr>\n",
       "      <th>1</th>\n",
       "      <td>2025-04-27</td>\n",
       "      <td>NEW YORK CENTRAL PARK</td>\n",
       "      <td>NY</td>\n",
       "      <td>TMAX</td>\n",
       "      <td>30.3</td>\n",
       "    </tr>\n",
       "    <tr>\n",
       "      <th>2</th>\n",
       "      <td>2025-04-27</td>\n",
       "      <td>SAN FRANCISCO INTL AP</td>\n",
       "      <td>CA</td>\n",
       "      <td>TMAX</td>\n",
       "      <td>16.4</td>\n",
       "    </tr>\n",
       "    <tr>\n",
       "      <th>3</th>\n",
       "      <td>2025-04-27</td>\n",
       "      <td>WASHINGTON REAGAN AP</td>\n",
       "      <td>DC</td>\n",
       "      <td>TMAX</td>\n",
       "      <td>30.3</td>\n",
       "    </tr>\n",
       "    <tr>\n",
       "      <th>4</th>\n",
       "      <td>2025-04-26</td>\n",
       "      <td>CHICAGO OHARE INTL AP</td>\n",
       "      <td>IL</td>\n",
       "      <td>TMAX</td>\n",
       "      <td>27.2</td>\n",
       "    </tr>\n",
       "    <tr>\n",
       "      <th>5</th>\n",
       "      <td>2025-04-26</td>\n",
       "      <td>NEW YORK CENTRAL PARK</td>\n",
       "      <td>NY</td>\n",
       "      <td>TMAX</td>\n",
       "      <td>27.5</td>\n",
       "    </tr>\n",
       "    <tr>\n",
       "      <th>6</th>\n",
       "      <td>2025-04-26</td>\n",
       "      <td>SAN FRANCISCO INTL AP</td>\n",
       "      <td>CA</td>\n",
       "      <td>TMAX</td>\n",
       "      <td>30.4</td>\n",
       "    </tr>\n",
       "    <tr>\n",
       "      <th>7</th>\n",
       "      <td>2025-04-26</td>\n",
       "      <td>WASHINGTON REAGAN AP</td>\n",
       "      <td>DC</td>\n",
       "      <td>TMAX</td>\n",
       "      <td>29.2</td>\n",
       "    </tr>\n",
       "    <tr>\n",
       "      <th>8</th>\n",
       "      <td>2025-04-25</td>\n",
       "      <td>CHICAGO OHARE INTL AP</td>\n",
       "      <td>IL</td>\n",
       "      <td>TMAX</td>\n",
       "      <td>16.9</td>\n",
       "    </tr>\n",
       "    <tr>\n",
       "      <th>9</th>\n",
       "      <td>2025-04-25</td>\n",
       "      <td>NEW YORK CENTRAL PARK</td>\n",
       "      <td>NY</td>\n",
       "      <td>TMAX</td>\n",
       "      <td>25.0</td>\n",
       "    </tr>\n",
       "    <tr>\n",
       "      <th>10</th>\n",
       "      <td>2025-04-25</td>\n",
       "      <td>SAN FRANCISCO INTL AP</td>\n",
       "      <td>CA</td>\n",
       "      <td>TMAX</td>\n",
       "      <td>29.9</td>\n",
       "    </tr>\n",
       "    <tr>\n",
       "      <th>11</th>\n",
       "      <td>2025-04-25</td>\n",
       "      <td>WASHINGTON REAGAN AP</td>\n",
       "      <td>DC</td>\n",
       "      <td>TMAX</td>\n",
       "      <td>32.7</td>\n",
       "    </tr>\n",
       "    <tr>\n",
       "      <th>12</th>\n",
       "      <td>2025-04-24</td>\n",
       "      <td>CHICAGO OHARE INTL AP</td>\n",
       "      <td>IL</td>\n",
       "      <td>TMAX</td>\n",
       "      <td>20.3</td>\n",
       "    </tr>\n",
       "    <tr>\n",
       "      <th>13</th>\n",
       "      <td>2025-04-24</td>\n",
       "      <td>NEW YORK CENTRAL PARK</td>\n",
       "      <td>NY</td>\n",
       "      <td>TMAX</td>\n",
       "      <td>18.3</td>\n",
       "    </tr>\n",
       "    <tr>\n",
       "      <th>14</th>\n",
       "      <td>2025-04-24</td>\n",
       "      <td>SAN FRANCISCO INTL AP</td>\n",
       "      <td>CA</td>\n",
       "      <td>TMAX</td>\n",
       "      <td>16.5</td>\n",
       "    </tr>\n",
       "    <tr>\n",
       "      <th>15</th>\n",
       "      <td>2025-04-24</td>\n",
       "      <td>WASHINGTON REAGAN AP</td>\n",
       "      <td>DC</td>\n",
       "      <td>TMAX</td>\n",
       "      <td>29.4</td>\n",
       "    </tr>\n",
       "    <tr>\n",
       "      <th>16</th>\n",
       "      <td>2025-04-23</td>\n",
       "      <td>CHICAGO OHARE INTL AP</td>\n",
       "      <td>IL</td>\n",
       "      <td>TMAX</td>\n",
       "      <td>25.1</td>\n",
       "    </tr>\n",
       "    <tr>\n",
       "      <th>17</th>\n",
       "      <td>2025-04-23</td>\n",
       "      <td>NEW YORK CENTRAL PARK</td>\n",
       "      <td>NY</td>\n",
       "      <td>TMAX</td>\n",
       "      <td>21.4</td>\n",
       "    </tr>\n",
       "    <tr>\n",
       "      <th>18</th>\n",
       "      <td>2025-04-23</td>\n",
       "      <td>SAN FRANCISCO INTL AP</td>\n",
       "      <td>CA</td>\n",
       "      <td>TMAX</td>\n",
       "      <td>23.4</td>\n",
       "    </tr>\n",
       "    <tr>\n",
       "      <th>19</th>\n",
       "      <td>2025-04-23</td>\n",
       "      <td>WASHINGTON REAGAN AP</td>\n",
       "      <td>DC</td>\n",
       "      <td>TMAX</td>\n",
       "      <td>28.0</td>\n",
       "    </tr>\n",
       "  </tbody>\n",
       "</table>\n",
       "</div>"
      ],
      "text/plain": [
       "          date           station_name state element  value\n",
       "0   2025-04-27  CHICAGO OHARE INTL AP    IL    TMAX   21.6\n",
       "1   2025-04-27  NEW YORK CENTRAL PARK    NY    TMAX   30.3\n",
       "2   2025-04-27  SAN FRANCISCO INTL AP    CA    TMAX   16.4\n",
       "3   2025-04-27   WASHINGTON REAGAN AP    DC    TMAX   30.3\n",
       "4   2025-04-26  CHICAGO OHARE INTL AP    IL    TMAX   27.2\n",
       "5   2025-04-26  NEW YORK CENTRAL PARK    NY    TMAX   27.5\n",
       "6   2025-04-26  SAN FRANCISCO INTL AP    CA    TMAX   30.4\n",
       "7   2025-04-26   WASHINGTON REAGAN AP    DC    TMAX   29.2\n",
       "8   2025-04-25  CHICAGO OHARE INTL AP    IL    TMAX   16.9\n",
       "9   2025-04-25  NEW YORK CENTRAL PARK    NY    TMAX   25.0\n",
       "10  2025-04-25  SAN FRANCISCO INTL AP    CA    TMAX   29.9\n",
       "11  2025-04-25   WASHINGTON REAGAN AP    DC    TMAX   32.7\n",
       "12  2025-04-24  CHICAGO OHARE INTL AP    IL    TMAX   20.3\n",
       "13  2025-04-24  NEW YORK CENTRAL PARK    NY    TMAX   18.3\n",
       "14  2025-04-24  SAN FRANCISCO INTL AP    CA    TMAX   16.5\n",
       "15  2025-04-24   WASHINGTON REAGAN AP    DC    TMAX   29.4\n",
       "16  2025-04-23  CHICAGO OHARE INTL AP    IL    TMAX   25.1\n",
       "17  2025-04-23  NEW YORK CENTRAL PARK    NY    TMAX   21.4\n",
       "18  2025-04-23  SAN FRANCISCO INTL AP    CA    TMAX   23.4\n",
       "19  2025-04-23   WASHINGTON REAGAN AP    DC    TMAX   28.0"
      ]
     },
     "metadata": {},
     "output_type": "display_data"
    }
   ],
   "source": [
    "# Query to get weather readings with station information\n",
    "join_query = \"\"\"\n",
    "SELECT \n",
    "    r.date, \n",
    "    s.station_name, \n",
    "    s.state,\n",
    "    r.element, \n",
    "    r.value\n",
    "FROM \n",
    "    weather_readings r\n",
    "JOIN \n",
    "    weather_stations s ON r.station_id = s.station_id\n",
    "WHERE \n",
    "    r.element = 'TMAX'\n",
    "ORDER BY \n",
    "    r.date DESC, s.station_name\n",
    "LIMIT 20;\n",
    "\"\"\"\n",
    "\n",
    "try:\n",
    "    result_df = pd.read_sql(join_query, engine)\n",
    "    display(result_df)\n",
    "except Exception as e:\n",
    "    print(f\"Error executing join query: {e}\")"
   ]
  },
  {
   "cell_type": "markdown",
   "metadata": {},
   "source": [
    "## 11. Basic Data Analysis and Visualization"
   ]
  },
  {
   "cell_type": "code",
   "execution_count": 11,
   "metadata": {},
   "outputs": [
    {
     "ename": "ModuleNotFoundError",
     "evalue": "No module named 'matplotlib'",
     "output_type": "error",
     "traceback": [
      "\u001b[0;31m---------------------------------------------------------------------------\u001b[0m",
      "\u001b[0;31mModuleNotFoundError\u001b[0m                       Traceback (most recent call last)",
      "Cell \u001b[0;32mIn[11], line 2\u001b[0m\n\u001b[1;32m      1\u001b[0m \u001b[38;5;66;03m# Import visualization libraries\u001b[39;00m\n\u001b[0;32m----> 2\u001b[0m \u001b[38;5;28;01mimport\u001b[39;00m\u001b[38;5;250m \u001b[39m\u001b[38;5;21;01mmatplotlib\u001b[39;00m\u001b[38;5;21;01m.\u001b[39;00m\u001b[38;5;21;01mpyplot\u001b[39;00m\u001b[38;5;250m \u001b[39m\u001b[38;5;28;01mas\u001b[39;00m\u001b[38;5;250m \u001b[39m\u001b[38;5;21;01mplt\u001b[39;00m\n\u001b[1;32m      3\u001b[0m \u001b[38;5;28;01mimport\u001b[39;00m\u001b[38;5;250m \u001b[39m\u001b[38;5;21;01mseaborn\u001b[39;00m\u001b[38;5;250m \u001b[39m\u001b[38;5;28;01mas\u001b[39;00m\u001b[38;5;250m \u001b[39m\u001b[38;5;21;01msns\u001b[39;00m\n\u001b[1;32m      5\u001b[0m \u001b[38;5;66;03m# Query for temperature data\u001b[39;00m\n",
      "\u001b[0;31mModuleNotFoundError\u001b[0m: No module named 'matplotlib'"
     ]
    }
   ],
   "source": [
    "# Import visualization libraries\n",
    "import matplotlib.pyplot as plt\n",
    "import seaborn as sns\n",
    "\n",
    "# Query for temperature data\n",
    "temp_query = \"\"\"\n",
    "SELECT \n",
    "    r.date, \n",
    "    s.station_name, \n",
    "    r.element, \n",
    "    r.value\n",
    "FROM \n",
    "    weather_readings r\n",
    "JOIN \n",
    "    weather_stations s ON r.station_id = s.station_id\n",
    "WHERE \n",
    "    r.element IN ('TMAX', 'TMIN')\n",
    "ORDER BY \n",
    "    r.date, s.station_name, r.element;\n",
    "\"\"\"\n",
    "\n",
    "temp_df = pd.read_sql(temp_query, engine)\n",
    "\n",
    "# Pivot the data for easier plotting\n",
    "pivot_df = temp_df.pivot_table(\n",
    "    index=['date', 'station_name'],\n",
    "    columns='element',\n",
    "    values='value'\n",
    ").reset_index()\n",
    "\n",
    "# Set plot style\n",
    "plt.figure(figsize=(12, 8))\n",
    "sns.set_style('whitegrid')\n",
    "\n",
    "# Plot for each station\n",
    "for station in pivot_df['station_name'].unique():\n",
    "    station_data = pivot_df[pivot_df['station_name'] == station]\n",
    "    plt.plot(station_data['date'], station_data['TMAX'], 'o-', label=f\"{station} (Max)\")\n",
    "    plt.plot(station_data['date'], station_data['TMIN'], 'o--', label=f\"{station} (Min)\")\n",
    "\n",
    "plt.title('Temperature Trends by Station', fontsize=16)\n",
    "plt.xlabel('Date', fontsize=12)\n",
    "plt.ylabel('Temperature (°C)', fontsize=12)\n",
    "plt.legend(bbox_to_anchor=(1.05, 1), loc='upper left')\n",
    "plt.tight_layout()\n",
    "plt.show()"
   ]
  },
  {
   "cell_type": "markdown",
   "metadata": {},
   "source": [
    "## 12. Close Connection\n",
    "\n",
    "It's good practice to dispose of the engine when you're done with it:"
   ]
  },
  {
   "cell_type": "code",
   "execution_count": 12,
   "metadata": {},
   "outputs": [
    {
     "name": "stdout",
     "output_type": "stream",
     "text": [
      "Connection closed.\n"
     ]
    }
   ],
   "source": [
    "# Dispose of the engine\n",
    "engine.dispose()\n",
    "print(\"Connection closed.\")"
   ]
  }
 ],
 "metadata": {
  "kernelspec": {
   "display_name": ".venv",
   "language": "python",
   "name": "python3"
  },
  "language_info": {
   "codemirror_mode": {
    "name": "ipython",
    "version": 3
   },
   "file_extension": ".py",
   "mimetype": "text/x-python",
   "name": "python",
   "nbconvert_exporter": "python",
   "pygments_lexer": "ipython3",
   "version": "3.9.21"
  }
 },
 "nbformat": 4,
 "nbformat_minor": 4
}
